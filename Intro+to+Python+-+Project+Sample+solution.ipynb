{
 "cells": [
  {
   "cell_type": "markdown",
   "metadata": {},
   "source": [
    "       ©Great Learning. Proprietary content. All Rights Reserved. Unauthorised use or distribution prohibited"
   ]
  },
  {
   "cell_type": "markdown",
   "metadata": {},
   "source": [
    "## AIML Module Project - Introduction to Python \n",
    "\n",
    "- Learner Copy"
   ]
  },
  {
   "cell_type": "markdown",
   "metadata": {},
   "source": [
    "### --> Assessment [ Total Score: 60 points ]\n",
    "\n",
    "Please refer to the problem statement for questions and descriptions"
   ]
  },
  {
   "cell_type": "markdown",
   "metadata": {},
   "source": [
    "### Part I: [ DP: 35 Points ]\n",
    "\n",
    "#### Part I consists of the following steps:\n",
    "- Create a pandas data frame consisting of 4 columns and 20 rows. \n",
    "- Column 1 should have values between 0 to 25. \n",
    "- Column 2 should have values between -10 to 10. \n",
    "- Column 3 should have values by multiplying column 1 and 2. \n",
    "- Column 4 should have value “Positive” if column 3 is a positive number.\n",
    "- Column 4 should have value “Negative” if column 3 is a negative number. \n",
    "- Create a new data frame of 1 column and 20 rows having random alphanumeric values of size 5. Name the column as ‘Password’ \n",
    "- Merge both the data frames to one single data frame. \n",
    "- Create a 2 new columns i.e. ‘Word’ and ‘Number’ by separating the alphabets and numbers from column “Password”.\n",
    "- Create a new column ‘Anomaly’. This column should have value ‘Found’ if the row entry in ‘Number’ is empty. \n",
    "- Insert a new column “Date” by inserting the current date. [ format: mmm-dd-yyyy ] \n",
    "- Insert a new column “Time” by inserting the current time. [ format: hh-mm-ss ] \n",
    "- Create a new column ‘Comment’. This column should have value ‘Non office hours of working’ if the row entry in ‘Time’ is not between 9 am to 7 pm. \n",
    "- Export the data frames to excel, csv, html and json formats. \n",
    "- Measure and display how much time it takes to execute the code. Optimise your code to reduce the time. Is this posible ? "
   ]
  },
  {
   "cell_type": "code",
   "execution_count": null,
   "metadata": {},
   "outputs": [],
   "source": [
    "# 14. Measure and display how much time it takes to execute the code. Optimise your code to reduce the time.\n",
    "import time\n",
    "start_time = time.time()\n",
    "\n",
    "\n",
    "import pandas as pd\n",
    "import numpy as np\n",
    "import random\n",
    "\n",
    "# 1. Create a pandas data frame consisting of 4 columns and 20 rows.\n",
    "# 2. Column 1 should have values between 0 to 25.\n",
    "# 3. Column 2 should have values between -10 to 10\n",
    "\n",
    "# Columns as lists\n",
    "\n",
    "column1=random.sample(range(0, 25), 20)\n",
    "column2=random.sample(range(-10, 10), 20)\n",
    "\n",
    "\n",
    "data = {'Column_1':column1,\n",
    "        'Column_2':column2}\n",
    "\n",
    "# 4. Column 3 should have values by multiplying column 1 and 2.\n",
    "\n",
    "df=pd.DataFrame(data)\n",
    "df['Column_3']=df['Column_1']*df['Column_2']\n",
    "\n",
    "# 5. Column 4 should have value “Positive” if column 3 is a positive number.\n",
    "# 6. Column 4 should have value “Negative” if column 3 is a negative number.\n",
    "for i in range(len(df['Column_3'])):\n",
    "    k=df.loc[i,'Column_3']\n",
    "    if k>=0:\n",
    "        df.loc[i,'Column_4']='Positive'\n",
    "    else:\n",
    "        df.loc[i,'Column_4']='Negative'\n",
    "\n",
    "# 7. Create a new data frame of 1 column and 20 rows having random alphanumeric values of size 5. \n",
    "# Name the column as ‘Password’        \n",
    "N = 20\n",
    "from pandas._testing import rands_array\n",
    "s_arr = pd.util.testing.rands_array(5, N)\n",
    "df1=pd.DataFrame(s_arr)\n",
    "\n",
    "# 8. Merge both the data frames to one single data frame.\n",
    "df['Password']=df1\n",
    "\n",
    "# 9. Create a 2 new columns i.e. ‘Word’ and ‘Number’ by separating the \n",
    "# alphabets and numbers from column “Password”.\n",
    "Num=[]\n",
    "Num=df['Password'].str.extract('(\\d+)')\n",
    "\n",
    "import re\n",
    "Alpha=[]\n",
    "for i in range(len(df['Password'])):\n",
    "    text=df.loc[i,'Password']\n",
    "    alpha=re.findall(\"[a-zA-Z]+\", text)\n",
    "    Alpha.append(alpha)\n",
    "\n",
    "df['Alphabet']=Alpha\n",
    "df['Number']=Num\n",
    "\n",
    "# 10. Create a new column ‘Anomaly’. This column should have value ‘Found’ if the row entry in ‘Number’ is empty.\n",
    "df=df.fillna('No Number') \n",
    "\n",
    "for i in range(len(df['Number'])):\n",
    "    k=df.loc[i,'Number']\n",
    "    if k=='No Number':\n",
    "        df.loc[i,'Anomaly']='Found'\n",
    "    else:\n",
    "        df.loc[i,'Anomaly']=' '\n",
    "# 11. Insert a new column “Date” by inserting the current date. [ format: mmm-dd-yyyy ]\n",
    "\n",
    "from datetime import date\n",
    "today=date.today() \n",
    "df['Date']= today.strftime(\"%b-%d-%Y\")\n",
    "\n",
    "# 12. Insert a new column “Time” by inserting the current time. [ format: hh-mm-ss ]\n",
    "\n",
    "from datetime import datetime\n",
    "now = datetime.now()\n",
    "df['Time'] = now.strftime(\"%H:%M:%S\")\n",
    "\n",
    "# 13. Create a new column ‘Comment’. This column should have value \n",
    "# ‘Non office hours of working’ if the row entry in ‘Time’ is not between 9 am to 7 pm.\n",
    "\n",
    "for i in range(len(df['Time'])):\n",
    "    a=df.loc[i,'Time']\n",
    "    a=int(a[:2])\n",
    "    if a<9 or a>19:\n",
    "        df.loc[i,'Comment']=\"Non Office hours of working\"\n",
    "\n",
    "# 14. Export the data frames to excel, csv, html and json formats.       \n",
    "df.to_excel(\"Data.xlsx\")\n",
    "df.to_csv(\"Data.csv\")\n",
    "df.to_json(\"Data.json\")\n",
    "df.to_html(\"Data.html\")\n",
    "\n",
    "\n",
    "end_time = time.time()\n",
    "Time_taken=end_time-start_time\n",
    "print(\"Time taken\",round(Time_taken,3),\"seconds\")"
   ]
  },
  {
   "cell_type": "markdown",
   "metadata": {},
   "source": [
    "### Part II: [ GP: 25 Points ]\n",
    "\n",
    "Automate all the tasks listed in part I. \n",
    "- Your function should be able to create datasets with N rows. [ Where N is defined by the user. N is any integer. ]\n",
    "- Your function should be able to export datasets onto local machine in excel, csv, json, html or all formats. User can choose this.\n",
    "- Purpose of this function is to allow user to generate a dataset with N rows and store it on local machine.\n",
    "You might need to write a web of complex interrelated functions \n",
    "\n",
    "Hint: You might need to write a web of complex interrelated functions to make a flawless automation. Write individual or interrelated functions to automate steps in part I. Anything that needs just a trigger to start and auto-execute all the steps. Please find the below screenshot for your reference:"
   ]
  },
  {
   "cell_type": "code",
   "execution_count": 40,
   "metadata": {},
   "outputs": [],
   "source": [
    "# 1. Create a pandas data frame consisting of 4 columns and 20 rows.\n",
    "# 2. Column 1 should have values between 0 to 25.\n",
    "# 3. Column 2 should have values between -10 to 10\n",
    "\n",
    "# Columns as lists\n",
    "\n",
    "def F1(N):\n",
    "    global data,Rows\n",
    "    Rows=N\n",
    "    import pandas as pd\n",
    "    import numpy as np\n",
    "    import random\n",
    "    column1=random.sample(range(0, N+5), N)\n",
    "    column2=random.sample(range(-N, N), N)\n",
    "    data = {'Column_1':column1,'Column_2':column2}\n",
    "    print(\"1. Create a pandas data frame consisting of 4 columns and 20 rows\",\n",
    "          \"\\n2. Column 1 should have values between 0 to 25\",\n",
    "          \"\\n3. Column 2 should have values between -10 to 10 \")"
   ]
  },
  {
   "cell_type": "code",
   "execution_count": 41,
   "metadata": {},
   "outputs": [],
   "source": [
    "# 4. Column 3 should have values by multiplying column 1 and 2.\n",
    "\n",
    "def F2():\n",
    "    global df\n",
    "    import pandas as pd\n",
    "    import numpy as np\n",
    "    df=pd.DataFrame(data)\n",
    "    df['Column_3']=df['Column_1']*df['Column_2']\n",
    "    print(\"4. Column 3 should have values by multiplying column 1 and 2\")"
   ]
  },
  {
   "cell_type": "code",
   "execution_count": 42,
   "metadata": {},
   "outputs": [],
   "source": [
    "# 5. Column 4 should have value “Positive” if column 3 is a positive number.\n",
    "# 6. Column 4 should have value “Negative” if column 3 is a negative number.\n",
    "\n",
    "def F3():\n",
    "    global df\n",
    "    import pandas as pd\n",
    "    import numpy as np\n",
    "    for i in range(len(df['Column_3'])):\n",
    "        k=df.loc[i,'Column_3']\n",
    "        if k>=0:\n",
    "            df.loc[i,'Column_4']='Positive'\n",
    "        else:\n",
    "            df.loc[i,'Column_4']='Negative'\n",
    "    print(\"5. Column 4 should have value “Positive” if column 3 is a positive number.\",\n",
    "            \"\\n6. Column 4 should have value “Negative” if column 3 is a negative number\")"
   ]
  },
  {
   "cell_type": "code",
   "execution_count": 43,
   "metadata": {},
   "outputs": [],
   "source": [
    "# 7. Create a new data frame of 1 column and 20 rows having random alphanumeric values of size 5. \n",
    "# Name the column as ‘Password’        \n",
    "\n",
    "def F4():\n",
    "    global df1\n",
    "    import pandas as pd\n",
    "    import numpy as np\n",
    "    from pandas._testing import rands_array\n",
    "    s_arr = pd.util.testing.rands_array(5, Rows)\n",
    "    df1=pd.DataFrame(s_arr)\n",
    "    print(\"7. Create a new data frame of 1 column and 20 rows having random alphanumeric values of size 5\")"
   ]
  },
  {
   "cell_type": "code",
   "execution_count": 44,
   "metadata": {},
   "outputs": [],
   "source": [
    "# 8. Merge both the data frames to one single data frame.\n",
    "\n",
    "def F5():\n",
    "    global df\n",
    "    import pandas as pd\n",
    "    import numpy as np\n",
    "    df['Password']=df1\n",
    "    print(\"8. Merge both the data frames to one single data frame\")"
   ]
  },
  {
   "cell_type": "code",
   "execution_count": 45,
   "metadata": {},
   "outputs": [],
   "source": [
    "# 9. Create a 2 new columns i.e. ‘Word’ and ‘Number’ by separating the \n",
    "# alphabets and numbers from column “Password”.\n",
    "\n",
    "def F6():\n",
    "    global df\n",
    "    import pandas as pd\n",
    "    import numpy as np\n",
    "    Num=[]\n",
    "    Num=df['Password'].str.extract('(\\d+)')\n",
    "\n",
    "    import re\n",
    "    Alpha=[]\n",
    "    for i in range(len(df['Password'])):\n",
    "        text=df.loc[i,'Password']\n",
    "        alpha=re.findall(\"[a-zA-Z]+\", text)\n",
    "        Alpha.append(alpha)\n",
    "\n",
    "    df['Alphabet']=Alpha\n",
    "    df['Number']=Num\n",
    "    print(\"9. Create a 2 new columns i.e. ‘Word’ and ‘Number’ by separating the alphabets and numbers from column “Password\")"
   ]
  },
  {
   "cell_type": "code",
   "execution_count": 46,
   "metadata": {},
   "outputs": [],
   "source": [
    "# 10. Create a new column ‘Anomaly’. This column should have value ‘Found’ if the row entry in ‘Number’ is empty.\n",
    "\n",
    "def F7():\n",
    "    global df\n",
    "    import pandas as pd\n",
    "    import numpy as np\n",
    "    df=df.fillna('No Number') \n",
    "\n",
    "    for i in range(len(df['Number'])):\n",
    "        k=df.loc[i,'Number']\n",
    "        if k=='No Number':\n",
    "            df.loc[i,'Anomaly']='Found'\n",
    "        else:\n",
    "            df.loc[i,'Anomaly']=' '\n",
    "    print(\"10. Create a new column ‘Anomaly’. This column should have value ‘Found’ if the row entry in ‘Number’ is empty.\")"
   ]
  },
  {
   "cell_type": "code",
   "execution_count": 47,
   "metadata": {},
   "outputs": [],
   "source": [
    "# 11. Insert a new column “Date” by inserting the current date. [ format: mmm-dd-yyyy ]\n",
    "\n",
    "def F8():\n",
    "    global df\n",
    "    import pandas as pd\n",
    "    import numpy as np\n",
    "    from datetime import date\n",
    "    today=date.today() \n",
    "    df['Date']= today.strftime(\"%b-%d-%Y\")\n",
    "    print(\"11. Insert a new column “Date” by inserting the current date. [ format: mmm-dd-yyyy ]\")\n"
   ]
  },
  {
   "cell_type": "code",
   "execution_count": 48,
   "metadata": {},
   "outputs": [],
   "source": [
    "# 12. Insert a new column “Time” by inserting the current time. [ format: hh-mm-ss ]\n",
    "\n",
    "def F9():\n",
    "    global df\n",
    "    import pandas as pd\n",
    "    import numpy as np\n",
    "    from datetime import datetime\n",
    "    now = datetime.now()\n",
    "    df['Time'] = now.strftime(\"%H:%M:%S\")\n",
    "    print(\"12. Insert a new column “Time” by inserting the current time. [ format: hh-mm-ss ]\")"
   ]
  },
  {
   "cell_type": "code",
   "execution_count": 52,
   "metadata": {},
   "outputs": [],
   "source": [
    "# 13. Create a new column ‘Comment’. This column should have value \n",
    "# ‘Non office hours of working’ if the row entry in ‘Time’ is not between 9 am to 7 pm.\n",
    "\n",
    "def F10():\n",
    "    global df\n",
    "    import pandas as pd\n",
    "    import numpy as np\n",
    "    from datetime import datetime\n",
    "    for i in range(len(df['Time'])):\n",
    "        a=df.loc[i,'Time']\n",
    "        a=int(a[:2])\n",
    "        if a<9 or a>19:\n",
    "            df.loc[i,'Comment']=\"Non Office hours of working\"\n",
    "    print(\"13. Create a new column ‘Comment’. This column should have value ‘Non office hours of working’ if the row entry in ‘Time’ is not between 9 am to 7 pm.\")"
   ]
  },
  {
   "cell_type": "code",
   "execution_count": 53,
   "metadata": {},
   "outputs": [],
   "source": [
    "# 14. Export the data frames to excel, csv, html and json formats.       \n",
    "def F11():\n",
    "    df.to_excel(\"Data.xlsx\")\n",
    "    print(\"Export the data frames to excel\")\n"
   ]
  },
  {
   "cell_type": "code",
   "execution_count": 54,
   "metadata": {},
   "outputs": [],
   "source": [
    "def F12():\n",
    "    df.to_csv(\"Data.csv\")\n",
    "    print(\"Export the data frames to csv\")"
   ]
  },
  {
   "cell_type": "code",
   "execution_count": 55,
   "metadata": {},
   "outputs": [],
   "source": [
    "def F13():\n",
    "    df.to_json(\"Data.json\")\n",
    "    print(\"Export the data frames to json\")"
   ]
  },
  {
   "cell_type": "code",
   "execution_count": 56,
   "metadata": {},
   "outputs": [],
   "source": [
    "def F14():\n",
    "    df.to_html(\"Data.html\")\n",
    "    print(\"Export the data frames to html\")"
   ]
  },
  {
   "cell_type": "code",
   "execution_count": 57,
   "metadata": {},
   "outputs": [],
   "source": [
    "# Main function\n",
    "\n",
    "def Main_Function(ROWS,FORMAT):\n",
    "    import time\n",
    "    start_time = time.time()\n",
    "    print(\"Starting the main function\")\n",
    "    F1(ROWS)\n",
    "    F2()\n",
    "    F3()\n",
    "    F4()\n",
    "    F5()\n",
    "    F6()\n",
    "    F7()\n",
    "    F8()\n",
    "    F9()\n",
    "    F10()\n",
    "    if FORMAT=='excel' or FORMAT=='xlsx' or FORMAT=='Excel' or FORMAT=='EXCEL'or FORMAT=='.xlsx' or FORMAT=='.XLSX':\n",
    "        F11()\n",
    "    elif FORMAT=='csv' or FORMAT=='CSV' or FORMAT=='.csv' or FORMAT=='.CSV':\n",
    "        F12()\n",
    "    elif FORMAT=='json' or FORMAT=='.json' or FORMAT=='.JSON' or FORMAT=='JSON':\n",
    "        F13()\n",
    "    elif FORMAT=='HTML' or FORMAT=='.HTML' or FORMAT=='html' or FORMAT=='.html':\n",
    "        F14()\n",
    "    elif FORMAT=='All' or FORMAT=='all' or FORMAT=='All formats' or FORMAT=='all formats':\n",
    "        F11()\n",
    "        F12()\n",
    "        F13()\n",
    "        F14()\n",
    "    end_time = time.time()\n",
    "    Time_taken=end_time-start_time\n",
    "    print(\"Time taken\",round(Time_taken,3),\"seconds\")\n",
    "    print(\"Ending the main function\")"
   ]
  },
  {
   "cell_type": "code",
   "execution_count": 59,
   "metadata": {},
   "outputs": [
    {
     "name": "stdout",
     "output_type": "stream",
     "text": [
      "Starting the main function\n",
      "1. Create a pandas data frame consisting of 4 columns and 20 rows \n",
      "2. Column 1 should have values between 0 to 25 \n",
      "3. Column 2 should have values between -10 to 10 \n",
      "4. Column 3 should have values by multiplying column 1 and 2\n",
      "5. Column 4 should have value “Positive” if column 3 is a positive number. \n",
      "6. Column 4 should have value “Negative” if column 3 is a negative number\n",
      "7. Create a new data frame of 1 column and 20 rows having random alphanumeric values of size 5\n",
      "8. Merge both the data frames to one single data frame\n",
      "9. Create a 2 new columns i.e. ‘Word’ and ‘Number’ by separating the alphabets and numbers from column “Password\n",
      "10. Create a new column ‘Anomaly’. This column should have value ‘Found’ if the row entry in ‘Number’ is empty.\n",
      "11. Insert a new column “Date” by inserting the current date. [ format: mmm-dd-yyyy ]\n",
      "12. Insert a new column “Time” by inserting the current time. [ format: hh-mm-ss ]\n",
      "13. Create a new column ‘Comment’. This column should have value ‘Non office hours of working’ if the row entry in ‘Time’ is not between 9 am to 7 pm.\n",
      "Export the data frames to html\n",
      "Time taken 0.078 seconds\n",
      "Ending the main function\n"
     ]
    }
   ],
   "source": [
    "Main_Function(33,\"html\")"
   ]
  },
  {
   "cell_type": "markdown",
   "metadata": {},
   "source": [
    "                                        END"
   ]
  },
  {
   "cell_type": "markdown",
   "metadata": {},
   "source": [
    "\n",
    "_________________________________________________________________\n",
    "\n",
    "©Great Learning. Proprietary content. All Rights Reserved. Unauthorised use or distribution prohibited\n",
    "________________________________________________________"
   ]
  }
 ],
 "metadata": {
  "kernelspec": {
   "display_name": "Python 3",
   "language": "python",
   "name": "python3"
  },
  "language_info": {
   "codemirror_mode": {
    "name": "ipython",
    "version": 3
   },
   "file_extension": ".py",
   "mimetype": "text/x-python",
   "name": "python",
   "nbconvert_exporter": "python",
   "pygments_lexer": "ipython3",
   "version": "3.7.7"
  }
 },
 "nbformat": 4,
 "nbformat_minor": 4
}
